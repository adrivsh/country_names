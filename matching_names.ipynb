{
 "cells": [
  {
   "cell_type": "code",
   "execution_count": 1,
   "metadata": {
    "collapsed": true
   },
   "outputs": [],
   "source": [
    "import pandas as pd"
   ]
  },
  {
   "cell_type": "code",
   "execution_count": 2,
   "metadata": {
    "collapsed": false
   },
   "outputs": [],
   "source": [
    "a=pd.read_csv(\"iso3_to_wb_name.csv\").rename(columns={\"country\":\"wb_name\"})"
   ]
  },
  {
   "cell_type": "code",
   "execution_count": 3,
   "metadata": {
    "collapsed": false
   },
   "outputs": [],
   "source": [
    "b=pd.read_csv(\"country_codes_extra.csv\")\n",
    "b.columns= b.columns.str.lower()"
   ]
  },
  {
   "cell_type": "code",
   "execution_count": 4,
   "metadata": {
    "collapsed": false
   },
   "outputs": [
    {
     "data": {
      "text/html": [
       "<div style=\"max-height:1000px;max-width:1500px;overflow:auto;\">\n",
       "<table border=\"1\" class=\"dataframe\">\n",
       "  <thead>\n",
       "    <tr style=\"text-align: right;\">\n",
       "      <th></th>\n",
       "      <th>iso3</th>\n",
       "      <th>wb_name</th>\n",
       "      <th>short name</th>\n",
       "      <th>official name</th>\n",
       "      <th>iso2</th>\n",
       "      <th>uni</th>\n",
       "      <th>undp</th>\n",
       "      <th>faostat</th>\n",
       "      <th>gaul</th>\n",
       "    </tr>\n",
       "  </thead>\n",
       "  <tbody>\n",
       "    <tr>\n",
       "      <th>0</th>\n",
       "      <td>AFG</td>\n",
       "      <td>Afghanistan</td>\n",
       "      <td>Afghanistan</td>\n",
       "      <td>The Islamic Republic of Afghanistan</td>\n",
       "      <td>AF</td>\n",
       "      <td>4</td>\n",
       "      <td>AFG</td>\n",
       "      <td>2</td>\n",
       "      <td>1</td>\n",
       "    </tr>\n",
       "    <tr>\n",
       "      <th>1</th>\n",
       "      <td>AGO</td>\n",
       "      <td>Angola</td>\n",
       "      <td>Angola</td>\n",
       "      <td>the Republic of Angola</td>\n",
       "      <td>AO</td>\n",
       "      <td>24</td>\n",
       "      <td>ANG</td>\n",
       "      <td>7</td>\n",
       "      <td>8</td>\n",
       "    </tr>\n",
       "    <tr>\n",
       "      <th>2</th>\n",
       "      <td>ALB</td>\n",
       "      <td>Albania</td>\n",
       "      <td>Albania</td>\n",
       "      <td>the Republic of Albania</td>\n",
       "      <td>AL</td>\n",
       "      <td>8</td>\n",
       "      <td>ALB</td>\n",
       "      <td>3</td>\n",
       "      <td>3</td>\n",
       "    </tr>\n",
       "    <tr>\n",
       "      <th>3</th>\n",
       "      <td>AND</td>\n",
       "      <td>Andorra</td>\n",
       "      <td>Andorra</td>\n",
       "      <td>the Principality of Andorra</td>\n",
       "      <td>AD</td>\n",
       "      <td>20</td>\n",
       "      <td>AND</td>\n",
       "      <td>6</td>\n",
       "      <td>7</td>\n",
       "    </tr>\n",
       "    <tr>\n",
       "      <th>4</th>\n",
       "      <td>ARE</td>\n",
       "      <td>United Arab Emirates</td>\n",
       "      <td>United Arab Emirates</td>\n",
       "      <td>the United Arab Emirates</td>\n",
       "      <td>AE</td>\n",
       "      <td>784</td>\n",
       "      <td>UAE</td>\n",
       "      <td>225</td>\n",
       "      <td>255</td>\n",
       "    </tr>\n",
       "  </tbody>\n",
       "</table>\n",
       "</div>"
      ],
      "text/plain": [
       "  iso3               wb_name            short name  \\\n",
       "0  AFG           Afghanistan           Afghanistan   \n",
       "1  AGO                Angola                Angola   \n",
       "2  ALB               Albania               Albania   \n",
       "3  AND               Andorra               Andorra   \n",
       "4  ARE  United Arab Emirates  United Arab Emirates   \n",
       "\n",
       "                         official name iso2  uni undp  faostat  gaul  \n",
       "0  The Islamic Republic of Afghanistan   AF    4  AFG        2     1  \n",
       "1               the Republic of Angola   AO   24  ANG        7     8  \n",
       "2              the Republic of Albania   AL    8  ALB        3     3  \n",
       "3          the Principality of Andorra   AD   20  AND        6     7  \n",
       "4             the United Arab Emirates   AE  784  UAE      225   255  "
      ]
     },
     "execution_count": 4,
     "metadata": {},
     "output_type": "execute_result"
    }
   ],
   "source": [
    "r=pd.merge(a,b,on = 'iso3')\n",
    "r.head()"
   ]
  },
  {
   "cell_type": "code",
   "execution_count": 5,
   "metadata": {
    "collapsed": false
   },
   "outputs": [],
   "source": [
    "r.to_csv(\"iso3_WBname_iso2_uni_undp_fasotat_gaul.csv\",index=False)"
   ]
  },
  {
   "cell_type": "code",
   "execution_count": null,
   "metadata": {
    "collapsed": true
   },
   "outputs": [],
   "source": [
    "#Any spelling ot WB spel\n",
    "any_name_to_wb_name=pd.read_csv(\"names_to_iso.csv\",usecols=[\"country\",\"iso3\"],index_col=\"country\",squeeze=True).replace(pd.read_csv(\"iso3_to_wb_name.csv\",usecols=[\"country\",\"iso3\"],index_col=\"iso3\",squeeze=True))\n",
    "any_name_to_wb_name.index.name=\"any\"\n",
    "any_name_to_wb_name.name=\"wb_name\"\n",
    "any_name_to_wb_name.to_csv(\"any_name_to_wb_name.csv\",header=True)"
   ]
  },
  {
   "cell_type": "code",
   "execution_count": 12,
   "metadata": {
    "collapsed": false
   },
   "outputs": [],
   "source": []
  },
  {
   "cell_type": "code",
   "execution_count": 13,
   "metadata": {
    "collapsed": false
   },
   "outputs": [],
   "source": []
  },
  {
   "cell_type": "code",
   "execution_count": 18,
   "metadata": {
    "collapsed": false
   },
   "outputs": [],
   "source": []
  },
  {
   "cell_type": "code",
   "execution_count": null,
   "metadata": {
    "collapsed": true
   },
   "outputs": [],
   "source": []
  }
 ],
 "metadata": {
  "kernelspec": {
   "display_name": "Python 3",
   "language": "python",
   "name": "python3"
  },
  "language_info": {
   "codemirror_mode": {
    "name": "ipython",
    "version": 3
   },
   "file_extension": ".py",
   "mimetype": "text/x-python",
   "name": "python",
   "nbconvert_exporter": "python",
   "pygments_lexer": "ipython3",
   "version": "3.4.1"
  }
 },
 "nbformat": 4,
 "nbformat_minor": 0
}
